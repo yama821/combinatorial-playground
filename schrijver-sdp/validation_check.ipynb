{
 "cells": [
  {
   "cell_type": "code",
   "execution_count": 1,
   "metadata": {},
   "outputs": [],
   "source": [
    "import sympy as sp\n",
    "import numpy as np"
   ]
  },
  {
   "cell_type": "code",
   "execution_count": 2,
   "metadata": {},
   "outputs": [],
   "source": [
    "file_path = 'data/n3-d3.dat-s'"
   ]
  },
  {
   "cell_type": "code",
   "execution_count": 3,
   "metadata": {},
   "outputs": [],
   "source": [
    "with open(file_path) as f:\n",
    "    line = f.readline()\n",
    "    num_variables = int(line.split()[0])\n",
    "\n",
    "    variables = sp.symbols(\" \".join([f'x_{i}' for i in range(num_variables + 1)]))\n",
    "\n",
    "    line = f.readline()\n",
    "    nblock = int(line.split()[0])\n",
    "\n",
    "    line = f.readline()\n",
    "    block_sizes = map(int, line.split())\n",
    "\n",
    "    line = f.readline()\n",
    "    objective = map(int, line.split())\n",
    "    \n",
    "    line = f.readline()\n",
    "\n",
    "    matrices = [\n",
    "        sp.Matrix(abs(s), abs(s), lambda i,j: 0) for s in block_sizes\n",
    "    ]\n",
    "\n",
    "    while line:\n",
    "        var_idx, block_idx, row, col, val = map(int, line.split())\n",
    "        if var_idx == 0:\n",
    "            matrices[block_idx - 1][row - 1, col - 1] += (-1) * val\n",
    "        else:\n",
    "            matrices[block_idx - 1][row - 1, col - 1] += val * variables[var_idx]\n",
    "        line = f.readline()"
   ]
  },
  {
   "cell_type": "code",
   "execution_count": 4,
   "metadata": {},
   "outputs": [],
   "source": [
    "# symmetrize\n",
    "for mat in matrices:\n",
    "    rows, cols = mat.shape\n",
    "    for row in range(rows):\n",
    "        for col in range(cols):\n",
    "            if row <= col:\n",
    "                continue\n",
    "            mat[row, col] = mat[col, row]"
   ]
  },
  {
   "cell_type": "code",
   "execution_count": 5,
   "metadata": {},
   "outputs": [
    {
     "data": {
      "text/latex": [
       "$\\displaystyle \\left[\\begin{matrix}x_{1} & 3 x_{2} & 3 x_{3} & x_{4}\\\\3 x_{2} & 3 x_{1} + 6 x_{3} & 6 x_{2} + 3 x_{4} & 3 x_{3}\\\\3 x_{3} & 6 x_{2} + 3 x_{4} & 3 x_{1} + 6 x_{3} & 3 x_{2}\\\\x_{4} & 3 x_{3} & 3 x_{2} & x_{64}\\end{matrix}\\right]$"
      ],
      "text/plain": [
       "Matrix([\n",
       "[  x_1,         3*x_2,         3*x_3,   x_4],\n",
       "[3*x_2, 3*x_1 + 6*x_3, 6*x_2 + 3*x_4, 3*x_3],\n",
       "[3*x_3, 6*x_2 + 3*x_4, 3*x_1 + 6*x_3, 3*x_2],\n",
       "[  x_4,         3*x_3,         3*x_2,  x_64]])"
      ]
     },
     "execution_count": 5,
     "metadata": {},
     "output_type": "execute_result"
    }
   ],
   "source": [
    "block_idx = 1\n",
    "\n",
    "matrices[block_idx - 1]"
   ]
  },
  {
   "cell_type": "code",
   "execution_count": 6,
   "metadata": {},
   "outputs": [
    {
     "data": {
      "text/latex": [
       "$\\displaystyle \\left[\\begin{matrix}- 2 x_{1} + x_{33} + 1\\end{matrix}\\right]$"
      ],
      "text/plain": [
       "Matrix([[-2*x_1 + x_33 + 1]])"
      ]
     },
     "execution_count": 6,
     "metadata": {},
     "output_type": "execute_result"
    }
   ],
   "source": [
    "block_idx = 100\n",
    "\n",
    "matrices[block_idx - 1]"
   ]
  },
  {
   "cell_type": "code",
   "execution_count": 7,
   "metadata": {},
   "outputs": [
    {
     "name": "stdout",
     "output_type": "stream",
     "text": [
      "{x_1: 1, x_2: 0, x_3: 0, x_4: 1, x_5: 0, x_6: 0, x_7: 0, x_8: 0, x_9: 0, x_10: 0, x_11: 0, x_12: 0, x_13: 1, x_14: 0, x_15: 0, x_16: 0, x_17: 0, x_18: 0, x_19: 0, x_20: 0, x_21: 0, x_22: 0, x_23: 0, x_24: 0, x_25: 0, x_26: 0, x_27: 0, x_28: 0, x_29: 0, x_30: 0, x_31: 0, x_32: 0, x_33: 0, x_34: 0, x_35: 0, x_36: 0, x_37: 0, x_38: 0, x_39: 0, x_40: 0, x_41: 0, x_42: 0, x_43: 0, x_44: 0, x_45: 0, x_46: 0, x_47: 0, x_48: 0, x_49: 0, x_50: 0, x_51: 0, x_52: 0, x_53: 0, x_54: 0, x_55: 0, x_56: 0, x_57: 0, x_58: 0, x_59: 0, x_60: 0, x_61: 0, x_62: 0, x_63: 0, x_64: 1}\n"
     ]
    },
    {
     "data": {
      "text/latex": [
       "$\\displaystyle \\left[\\begin{matrix}1 & 0 & 0 & 1\\\\0 & 3 & 3 & 0\\\\0 & 3 & 3 & 0\\\\1 & 0 & 0 & 1\\end{matrix}\\right]$"
      ],
      "text/plain": [
       "Matrix([\n",
       "[1, 0, 0, 1],\n",
       "[0, 3, 3, 0],\n",
       "[0, 3, 3, 0],\n",
       "[1, 0, 0, 1]])"
      ]
     },
     "execution_count": 7,
     "metadata": {},
     "output_type": "execute_result"
    }
   ],
   "source": [
    "selected_vars = set([1, 4, 13, 64])\n",
    "\n",
    "subs_map = {}\n",
    "for i in range(1, num_variables + 1):\n",
    "    if i in selected_vars:\n",
    "        subs_map[variables[i]] = 1\n",
    "    else:\n",
    "        subs_map[variables[i]] = 0\n",
    "\n",
    "print(subs_map)\n",
    "\n",
    "subs_matrices = []\n",
    "for mat in matrices:\n",
    "    subs_matrices.append(mat.subs(subs_map))\n",
    "\n",
    "subs_matrices[0]"
   ]
  },
  {
   "cell_type": "code",
   "execution_count": 8,
   "metadata": {},
   "outputs": [
    {
     "name": "stdout",
     "output_type": "stream",
     "text": [
      "block [83] is not positive semedefinite!\n"
     ]
    },
    {
     "data": {
      "text/latex": [
       "$\\displaystyle \\left[\\begin{matrix}-1\\end{matrix}\\right]$"
      ],
      "text/plain": [
       "Matrix([[-1]])"
      ]
     },
     "metadata": {},
     "output_type": "display_data"
    },
    {
     "data": {
      "text/latex": [
       "$\\displaystyle \\left[\\begin{matrix}- x_{13} + x_{16} - x_{4} + 1\\end{matrix}\\right]$"
      ],
      "text/plain": [
       "Matrix([[-x_13 + x_16 - x_4 + 1]])"
      ]
     },
     "metadata": {},
     "output_type": "display_data"
    },
    {
     "name": "stdout",
     "output_type": "stream",
     "text": [
      "block [84] is not positive semedefinite!\n"
     ]
    },
    {
     "data": {
      "text/latex": [
       "$\\displaystyle \\left[\\begin{matrix}-1\\end{matrix}\\right]$"
      ],
      "text/plain": [
       "Matrix([[-1]])"
      ]
     },
     "metadata": {},
     "output_type": "display_data"
    },
    {
     "data": {
      "text/latex": [
       "$\\displaystyle \\left[\\begin{matrix}- 2 x_{1} + x_{17} + 1\\end{matrix}\\right]$"
      ],
      "text/plain": [
       "Matrix([[-2*x_1 + x_17 + 1]])"
      ]
     },
     "metadata": {},
     "output_type": "display_data"
    },
    {
     "name": "stdout",
     "output_type": "stream",
     "text": [
      "block [87] is not positive semedefinite!\n"
     ]
    },
    {
     "data": {
      "text/latex": [
       "$\\displaystyle \\left[\\begin{matrix}-1\\end{matrix}\\right]$"
      ],
      "text/plain": [
       "Matrix([[-1]])"
      ]
     },
     "metadata": {},
     "output_type": "display_data"
    },
    {
     "data": {
      "text/latex": [
       "$\\displaystyle \\left[\\begin{matrix}- x_{1} - x_{13} + x_{29} + 1\\end{matrix}\\right]$"
      ],
      "text/plain": [
       "Matrix([[-x_1 - x_13 + x_29 + 1]])"
      ]
     },
     "metadata": {},
     "output_type": "display_data"
    },
    {
     "name": "stdout",
     "output_type": "stream",
     "text": [
      "block [96] is not positive semedefinite!\n"
     ]
    },
    {
     "data": {
      "text/latex": [
       "$\\displaystyle \\left[\\begin{matrix}-1\\end{matrix}\\right]$"
      ],
      "text/plain": [
       "Matrix([[-1]])"
      ]
     },
     "metadata": {},
     "output_type": "display_data"
    },
    {
     "data": {
      "text/latex": [
       "$\\displaystyle \\left[\\begin{matrix}- x_{1} + x_{20} - x_{4} + 1\\end{matrix}\\right]$"
      ],
      "text/plain": [
       "Matrix([[-x_1 + x_20 - x_4 + 1]])"
      ]
     },
     "metadata": {},
     "output_type": "display_data"
    },
    {
     "name": "stdout",
     "output_type": "stream",
     "text": [
      "block [99] is not positive semedefinite!\n"
     ]
    },
    {
     "data": {
      "text/latex": [
       "$\\displaystyle \\left[\\begin{matrix}-1\\end{matrix}\\right]$"
      ],
      "text/plain": [
       "Matrix([[-1]])"
      ]
     },
     "metadata": {},
     "output_type": "display_data"
    },
    {
     "data": {
      "text/latex": [
       "$\\displaystyle \\left[\\begin{matrix}- x_{13} + x_{32} - x_{4} + 1\\end{matrix}\\right]$"
      ],
      "text/plain": [
       "Matrix([[-x_13 + x_32 - x_4 + 1]])"
      ]
     },
     "metadata": {},
     "output_type": "display_data"
    },
    {
     "name": "stdout",
     "output_type": "stream",
     "text": [
      "block [100] is not positive semedefinite!\n"
     ]
    },
    {
     "data": {
      "text/latex": [
       "$\\displaystyle \\left[\\begin{matrix}-1\\end{matrix}\\right]$"
      ],
      "text/plain": [
       "Matrix([[-1]])"
      ]
     },
     "metadata": {},
     "output_type": "display_data"
    },
    {
     "data": {
      "text/latex": [
       "$\\displaystyle \\left[\\begin{matrix}- 2 x_{1} + x_{33} + 1\\end{matrix}\\right]$"
      ],
      "text/plain": [
       "Matrix([[-2*x_1 + x_33 + 1]])"
      ]
     },
     "metadata": {},
     "output_type": "display_data"
    },
    {
     "name": "stdout",
     "output_type": "stream",
     "text": [
      "block [103] is not positive semedefinite!\n"
     ]
    },
    {
     "data": {
      "text/latex": [
       "$\\displaystyle \\left[\\begin{matrix}-1\\end{matrix}\\right]$"
      ],
      "text/plain": [
       "Matrix([[-1]])"
      ]
     },
     "metadata": {},
     "output_type": "display_data"
    },
    {
     "data": {
      "text/latex": [
       "$\\displaystyle \\left[\\begin{matrix}- x_{1} - x_{13} + x_{45} + 1\\end{matrix}\\right]$"
      ],
      "text/plain": [
       "Matrix([[-x_1 - x_13 + x_45 + 1]])"
      ]
     },
     "metadata": {},
     "output_type": "display_data"
    },
    {
     "name": "stdout",
     "output_type": "stream",
     "text": [
      "block [112] is not positive semedefinite!\n"
     ]
    },
    {
     "data": {
      "text/latex": [
       "$\\displaystyle \\left[\\begin{matrix}-1\\end{matrix}\\right]$"
      ],
      "text/plain": [
       "Matrix([[-1]])"
      ]
     },
     "metadata": {},
     "output_type": "display_data"
    },
    {
     "data": {
      "text/latex": [
       "$\\displaystyle \\left[\\begin{matrix}- x_{1} + x_{36} - x_{4} + 1\\end{matrix}\\right]$"
      ],
      "text/plain": [
       "Matrix([[-x_1 + x_36 - x_4 + 1]])"
      ]
     },
     "metadata": {},
     "output_type": "display_data"
    },
    {
     "name": "stdout",
     "output_type": "stream",
     "text": [
      "block [115] is not positive semedefinite!\n"
     ]
    },
    {
     "data": {
      "text/latex": [
       "$\\displaystyle \\left[\\begin{matrix}-1\\end{matrix}\\right]$"
      ],
      "text/plain": [
       "Matrix([[-1]])"
      ]
     },
     "metadata": {},
     "output_type": "display_data"
    },
    {
     "data": {
      "text/latex": [
       "$\\displaystyle \\left[\\begin{matrix}- x_{13} - x_{4} + x_{48} + 1\\end{matrix}\\right]$"
      ],
      "text/plain": [
       "Matrix([[-x_13 - x_4 + x_48 + 1]])"
      ]
     },
     "metadata": {},
     "output_type": "display_data"
    },
    {
     "name": "stdout",
     "output_type": "stream",
     "text": [
      "block [116] is not positive semedefinite!\n"
     ]
    },
    {
     "data": {
      "text/latex": [
       "$\\displaystyle \\left[\\begin{matrix}-1\\end{matrix}\\right]$"
      ],
      "text/plain": [
       "Matrix([[-1]])"
      ]
     },
     "metadata": {},
     "output_type": "display_data"
    },
    {
     "data": {
      "text/latex": [
       "$\\displaystyle \\left[\\begin{matrix}- 2 x_{1} + x_{49} + 1\\end{matrix}\\right]$"
      ],
      "text/plain": [
       "Matrix([[-2*x_1 + x_49 + 1]])"
      ]
     },
     "metadata": {},
     "output_type": "display_data"
    },
    {
     "name": "stdout",
     "output_type": "stream",
     "text": [
      "block [119] is not positive semedefinite!\n"
     ]
    },
    {
     "data": {
      "text/latex": [
       "$\\displaystyle \\left[\\begin{matrix}-1\\end{matrix}\\right]$"
      ],
      "text/plain": [
       "Matrix([[-1]])"
      ]
     },
     "metadata": {},
     "output_type": "display_data"
    },
    {
     "data": {
      "text/latex": [
       "$\\displaystyle \\left[\\begin{matrix}- x_{1} - x_{13} + x_{61} + 1\\end{matrix}\\right]$"
      ],
      "text/plain": [
       "Matrix([[-x_1 - x_13 + x_61 + 1]])"
      ]
     },
     "metadata": {},
     "output_type": "display_data"
    },
    {
     "name": "stdout",
     "output_type": "stream",
     "text": [
      "block [128] is not positive semedefinite!\n"
     ]
    },
    {
     "data": {
      "text/latex": [
       "$\\displaystyle \\left[\\begin{matrix}-1\\end{matrix}\\right]$"
      ],
      "text/plain": [
       "Matrix([[-1]])"
      ]
     },
     "metadata": {},
     "output_type": "display_data"
    },
    {
     "data": {
      "text/latex": [
       "$\\displaystyle \\left[\\begin{matrix}- x_{1} - x_{4} + x_{52} + 1\\end{matrix}\\right]$"
      ],
      "text/plain": [
       "Matrix([[-x_1 - x_4 + x_52 + 1]])"
      ]
     },
     "metadata": {},
     "output_type": "display_data"
    }
   ],
   "source": [
    "for block_idx, mat in enumerate(subs_matrices):\n",
    "    eigenvals = mat.eigenvals()\n",
    "    is_psd = all(ev >= 0 for ev in eigenvals.keys())\n",
    "\n",
    "    if not is_psd:\n",
    "        print(f'block [{block_idx + 1}] is not positive semedefinite!')\n",
    "        display(mat)\n",
    "        display(matrices[block_idx])"
   ]
  }
 ],
 "metadata": {
  "kernelspec": {
   "display_name": ".venv",
   "language": "python",
   "name": "python3"
  },
  "language_info": {
   "codemirror_mode": {
    "name": "ipython",
    "version": 3
   },
   "file_extension": ".py",
   "mimetype": "text/x-python",
   "name": "python",
   "nbconvert_exporter": "python",
   "pygments_lexer": "ipython3",
   "version": "3.12.0"
  }
 },
 "nbformat": 4,
 "nbformat_minor": 2
}
