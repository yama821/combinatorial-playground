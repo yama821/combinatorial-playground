{
 "cells": [
  {
   "cell_type": "code",
   "execution_count": 411,
   "metadata": {},
   "outputs": [],
   "source": [
    "import sympy as sp\n",
    "\n",
    "import re\n",
    "from sympy import symbols, Symbol, init_printing\n",
    "\n",
    "from scipy.special import comb\n",
    "\n",
    "# 1) Symbol を継承して _latex をオーバーライド\n",
    "class DoubleIndexSymbol(Symbol):\n",
    "    def _latex(self, printer):\n",
    "        m = re.fullmatch(r'([A-Za-z]+)_(\\d+)_(\\d+)__(\\d+)', self.name)\n",
    "        if m:\n",
    "            base, i, j, k = m.groups()\n",
    "            return f\"{base}_{{{i},{j}}}^{k}\"\n",
    "        return self.name\n",
    "\n",
    "# 2) MathJax 表示を有効化\n",
    "init_printing(use_latex='mathjax')"
   ]
  },
  {
   "cell_type": "code",
   "execution_count": 412,
   "metadata": {},
   "outputs": [],
   "source": [
    "n = 3\n",
    "d = 3\n",
    "\n",
    "file_path = f'data/n{n}-d{d}.dat-s'"
   ]
  },
  {
   "cell_type": "code",
   "execution_count": 413,
   "metadata": {},
   "outputs": [],
   "source": [
    "def encode_variable(n, t, i, j):\n",
    "    return i + (n + 1) * j + (n + 1) * (n + 1) * t + 1\n",
    "\n",
    "def decode_variable_index(var_idx):\n",
    "    var_idx -= 1\n",
    "    i = var_idx % (n + 1)\n",
    "    var_idx //= (n + 1)\n",
    "    j = var_idx % (n + 1)\n",
    "    var_idx //= (n + 1)\n",
    "    t = var_idx % (n + 1)\n",
    "    return i, j, t\n",
    "\n",
    "def get_variable_symbol(var_idx):\n",
    "    if var_idx == 0:\n",
    "        return 'x_0'\n",
    "    i, j, t = decode_variable_index(var_idx)\n",
    "    return f\"x_{i}_{j}__{t}\""
   ]
  },
  {
   "cell_type": "code",
   "execution_count": 414,
   "metadata": {},
   "outputs": [],
   "source": [
    "## validation\n",
    "\n",
    "for i in range(n + 1):\n",
    "    for j in range(n + 1):\n",
    "        for t in range(n + 1):\n",
    "            var_idx = encode_variable(n, t, i, j)\n",
    "            assert (i, j, t) == decode_variable_index(var_idx)\n",
    "\n",
    "for idx in range(1, (n + 1) ** 3):\n",
    "    i, j, t = decode_variable_index(idx)\n",
    "    assert idx == encode_variable(n, t, i, j)"
   ]
  },
  {
   "cell_type": "code",
   "execution_count": 415,
   "metadata": {},
   "outputs": [],
   "source": [
    "with open(file_path) as f:\n",
    "    line = f.readline()\n",
    "    num_variables = int(line.split()[0])\n",
    "\n",
    "    var_str = \" \".join([get_variable_symbol(i) for i in range(num_variables + 1)])\n",
    "    variables = sp.symbols(var_str, cls=DoubleIndexSymbol)\n",
    "\n",
    "    line = f.readline()\n",
    "    nblock = int(line.split()[0])\n",
    "\n",
    "    line = f.readline()\n",
    "    block_sizes = map(int, line.split())\n",
    "\n",
    "    line = f.readline()\n",
    "    objective = map(int, line.split())\n",
    "    \n",
    "    line = f.readline()\n",
    "\n",
    "    matrices = [\n",
    "        sp.Matrix(abs(s), abs(s), lambda i,j: 0) for s in block_sizes\n",
    "    ]\n",
    "\n",
    "    while line:\n",
    "        var_idx, block_idx, row, col, val = map(int, line.split())\n",
    "        if var_idx == 0:\n",
    "            matrices[block_idx - 1][row - 1, col - 1] += (-1) * val\n",
    "        else:\n",
    "            matrices[block_idx - 1][row - 1, col - 1] += val * variables[var_idx]\n",
    "        line = f.readline()"
   ]
  },
  {
   "cell_type": "code",
   "execution_count": 416,
   "metadata": {},
   "outputs": [],
   "source": [
    "# symmetrize\n",
    "for mat in matrices:\n",
    "    rows, cols = mat.shape\n",
    "    for row in range(rows):\n",
    "        for col in range(cols):\n",
    "            if row <= col:\n",
    "                continue\n",
    "            mat[row, col] = mat[col, row]"
   ]
  },
  {
   "cell_type": "code",
   "execution_count": 417,
   "metadata": {},
   "outputs": [
    {
     "data": {
      "text/latex": [
       "$\\displaystyle \\left( x_0, \\  x_{0,0}^0, \\  x_{1,0}^0, \\  x_{2,0}^0, \\  x_{3,0}^0, \\  x_{0,1}^0, \\  x_{1,1}^0, \\  x_{2,1}^0, \\  x_{3,1}^0, \\  x_{0,2}^0, \\  x_{1,2}^0, \\  x_{2,2}^0, \\  x_{3,2}^0, \\  x_{0,3}^0, \\  x_{1,3}^0, \\  x_{2,3}^0, \\  x_{3,3}^0, \\  x_{0,0}^1, \\  x_{1,0}^1, \\  x_{2,0}^1, \\  x_{3,0}^1, \\  x_{0,1}^1, \\  x_{1,1}^1, \\  x_{2,1}^1, \\  x_{3,1}^1, \\  x_{0,2}^1, \\  x_{1,2}^1, \\  x_{2,2}^1, \\  x_{3,2}^1, \\  x_{0,3}^1, \\  x_{1,3}^1, \\  x_{2,3}^1, \\  x_{3,3}^1, \\  x_{0,0}^2, \\  x_{1,0}^2, \\  x_{2,0}^2, \\  x_{3,0}^2, \\  x_{0,1}^2, \\  x_{1,1}^2, \\  x_{2,1}^2, \\  x_{3,1}^2, \\  x_{0,2}^2, \\  x_{1,2}^2, \\  x_{2,2}^2, \\  x_{3,2}^2, \\  x_{0,3}^2, \\  x_{1,3}^2, \\  x_{2,3}^2, \\  x_{3,3}^2, \\  x_{0,0}^3, \\  x_{1,0}^3, \\  x_{2,0}^3, \\  x_{3,0}^3, \\  x_{0,1}^3, \\  x_{1,1}^3, \\  x_{2,1}^3, \\  x_{3,1}^3, \\  x_{0,2}^3, \\  x_{1,2}^3, \\  x_{2,2}^3, \\  x_{3,2}^3, \\  x_{0,3}^3, \\  x_{1,3}^3, \\  x_{2,3}^3, \\  x_{3,3}^3\\right)$"
      ],
      "text/plain": [
       "(x₀, x⁰₀ ₀, x⁰₁ ₀, x⁰₂ ₀, x⁰₃ ₀, x⁰₀ ₁, x⁰₁ ₁, x⁰₂ ₁, x⁰₃ ₁, x⁰₀ ₂, x⁰₁ ₂, x⁰₂ ↪\n",
       "\n",
       "↪  ₂, x⁰₃ ₂, x⁰₀ ₃, x⁰₁ ₃, x⁰₂ ₃, x⁰₃ ₃, x¹₀ ₀, x¹₁ ₀, x¹₂ ₀, x¹₃ ₀, x¹₀ ₁, x¹ ↪\n",
       "\n",
       "↪ ₁ ₁, x¹₂ ₁, x¹₃ ₁, x¹₀ ₂, x¹₁ ₂, x¹₂ ₂, x¹₃ ₂, x¹₀ ₃, x¹₁ ₃, x¹₂ ₃, x¹₃ ₃, x ↪\n",
       "\n",
       "↪ ²₀ ₀, x²₁ ₀, x²₂ ₀, x²₃ ₀, x²₀ ₁, x²₁ ₁, x²₂ ₁, x²₃ ₁, x²₀ ₂, x²₁ ₂, x²₂ ₂,  ↪\n",
       "\n",
       "↪ x²₃ ₂, x²₀ ₃, x²₁ ₃, x²₂ ₃, x²₃ ₃, x³₀ ₀, x³₁ ₀, x³₂ ₀, x³₃ ₀, x³₀ ₁, x³₁ ₁, ↪\n",
       "\n",
       "↪  x³₂ ₁, x³₃ ₁, x³₀ ₂, x³₁ ₂, x³₂ ₂, x³₃ ₂, x³₀ ₃, x³₁ ₃, x³₂ ₃, x³₃ ₃)"
      ]
     },
     "execution_count": 417,
     "metadata": {},
     "output_type": "execute_result"
    }
   ],
   "source": [
    "variables"
   ]
  },
  {
   "cell_type": "code",
   "execution_count": 418,
   "metadata": {},
   "outputs": [
    {
     "data": {
      "text/latex": [
       "$\\displaystyle \\left[\\begin{matrix}x_{0,0}^0 & 3 x_{1,0}^0 & 3 x_{2,0}^0 & x_{3,0}^0\\\\3 x_{1,0}^0 & 3 x_{0,0}^0 + 6 x_{2,0}^0 & 6 x_{1,0}^0 + 3 x_{3,0}^0 & 3 x_{2,0}^0\\\\3 x_{2,0}^0 & 6 x_{1,0}^0 + 3 x_{3,0}^0 & 3 x_{0,0}^0 + 6 x_{2,0}^0 & 3 x_{1,0}^0\\\\x_{3,0}^0 & 3 x_{2,0}^0 & 3 x_{1,0}^0 & x_{3,3}^3\\end{matrix}\\right]$"
      ],
      "text/plain": [
       "⎡ x⁰₀ ₀        3⋅x⁰₁ ₀            3⋅x⁰₂ ₀        x⁰₃ ₀ ⎤\n",
       "⎢                                                      ⎥\n",
       "⎢3⋅x⁰₁ ₀  3⋅x⁰₀ ₀ + 6⋅x⁰₂ ₀  6⋅x⁰₁ ₀ + 3⋅x⁰₃ ₀  3⋅x⁰₂ ₀⎥\n",
       "⎢                                                      ⎥\n",
       "⎢3⋅x⁰₂ ₀  6⋅x⁰₁ ₀ + 3⋅x⁰₃ ₀  3⋅x⁰₀ ₀ + 6⋅x⁰₂ ₀  3⋅x⁰₁ ₀⎥\n",
       "⎢                                                      ⎥\n",
       "⎣ x⁰₃ ₀        3⋅x⁰₂ ₀            3⋅x⁰₁ ₀        x³₃ ₃ ⎦"
      ]
     },
     "execution_count": 418,
     "metadata": {},
     "output_type": "execute_result"
    }
   ],
   "source": [
    "block_idx = 1\n",
    "\n",
    "matrices[block_idx - 1]"
   ]
  },
  {
   "cell_type": "code",
   "execution_count": 419,
   "metadata": {},
   "outputs": [
    {
     "name": "stderr",
     "output_type": "stream",
     "text": [
      "<>:2: SyntaxWarning: invalid escape sequence '\\i'\n",
      "<>:2: SyntaxWarning: invalid escape sequence '\\i'\n",
      "/var/folders/6k/nrp954t51fq50vv_ch4k2wc00000gn/T/ipykernel_4836/4120383699.py:2: SyntaxWarning: invalid escape sequence '\\i'\n",
      "  \"\"\"\n"
     ]
    }
   ],
   "source": [
    "def calc_sym_diff(x, y, z):\n",
    "    \"\"\"\n",
    "    * x, y, z \\in C \\subset {0, 1}^n\n",
    "    * i=|x \\bigtriangleup y|, j=|x \\bigtriangleup z|, t=|(x \\bigtriangleup y) \\cap (x \\bigtriangleup z)|\n",
    "    \"\"\"\n",
    "    i, j, t = 0, 0, 0\n",
    "    for idx in range(len(x)):\n",
    "        if x[idx] != y[idx]:\n",
    "            i += 1\n",
    "        if x[idx] != z[idx]:\n",
    "            j += 1\n",
    "        if x[idx] != y[idx] and x[idx] != z[idx]:\n",
    "            t += 1\n",
    "    return i, j, t\n",
    "\n",
    "def lambda_to_x(lamb, code_size, t, i, j):\n",
    "    denom = (code_size * comb(n, i-t, exact=True) * comb(n-i+t,j-t, exact=True) * comb(n-i-j+2*t, t, exact=True))\n",
    "    if denom == 0:\n",
    "        return 0\n",
    "    return lamb // denom"
   ]
  },
  {
   "cell_type": "code",
   "execution_count": 420,
   "metadata": {},
   "outputs": [],
   "source": [
    "C = [\n",
    "    \"000\", \"111\"\n",
    "]\n",
    "\n",
    "# C = [\n",
    "#     \"1000\", \"0100\", \"0010\", \"1110\",\n",
    "#     \"0001\", \"1101\", \"1011\", \"0111\",\n",
    "# ]\n",
    "\n",
    "# C = [\"10\", \"01\"]"
   ]
  },
  {
   "cell_type": "code",
   "execution_count": 421,
   "metadata": {},
   "outputs": [
    {
     "data": {
      "text/latex": [
       "$\\displaystyle \\left[ 0, \\  1, \\  0, \\  0, \\  1, \\  0, \\  0, \\  0, \\  0, \\  0, \\  0, \\  0, \\  0, \\  1, \\  0, \\  0, \\  0, \\  0, \\  0, \\  0, \\  0, \\  0, \\  0, \\  0, \\  0, \\  0, \\  0, \\  0, \\  0, \\  0, \\  0, \\  0, \\  0, \\  0, \\  0, \\  0, \\  0, \\  0, \\  0, \\  0, \\  0, \\  0, \\  0, \\  0, \\  0, \\  0, \\  0, \\  0, \\  0, \\  0, \\  0, \\  0, \\  0, \\  0, \\  0, \\  0, \\  0, \\  0, \\  0, \\  0, \\  0, \\  0, \\  0, \\  0, \\  1\\right]$"
      ],
      "text/plain": [
       "[0, 1, 0, 0, 1, 0, 0, 0, 0, 0, 0, 0, 0, 1, 0, 0, 0, 0, 0, 0, 0, 0, 0, 0, 0, 0, ↪\n",
       "\n",
       "↪  0, 0, 0, 0, 0, 0, 0, 0, 0, 0, 0, 0, 0, 0, 0, 0, 0, 0, 0, 0, 0, 0, 0, 0, 0,  ↪\n",
       "\n",
       "↪ 0, 0, 0, 0, 0, 0, 0, 0, 0, 0, 0, 0, 0, 1]"
      ]
     },
     "execution_count": 421,
     "metadata": {},
     "output_type": "execute_result"
    }
   ],
   "source": [
    "effs_lambda = [0 for _ in range(num_variables + 1)]\n",
    "\n",
    "for x in C:\n",
    "    for y in C:\n",
    "        for z in C:\n",
    "            i, j, t = calc_sym_diff(x, y, z)\n",
    "            var_idx = encode_variable(n, t, i, j)\n",
    "            effs_lambda[var_idx] += 1\n",
    "\n",
    "effs = [0 for _ in range(num_variables + 1)]\n",
    "for i in range(n + 1):\n",
    "    for j in range(n + 1):\n",
    "        for t in range(n + 1):\n",
    "            var_idx = encode_variable(n, t, i, j)\n",
    "            effs[var_idx] = lambda_to_x(effs_lambda[var_idx], len(C), t, i, j)\n",
    "\n",
    "effs\n",
    "            "
   ]
  },
  {
   "cell_type": "code",
   "execution_count": 422,
   "metadata": {},
   "outputs": [
    {
     "name": "stdout",
     "output_type": "stream",
     "text": [
      "{x_0_0__0: 1, x_1_0__0: 0, x_2_0__0: 0, x_3_0__0: 1, x_0_1__0: 0, x_1_1__0: 0, x_2_1__0: 0, x_3_1__0: 0, x_0_2__0: 0, x_1_2__0: 0, x_2_2__0: 0, x_3_2__0: 0, x_0_3__0: 1, x_1_3__0: 0, x_2_3__0: 0, x_3_3__0: 0, x_0_0__1: 0, x_1_0__1: 0, x_2_0__1: 0, x_3_0__1: 0, x_0_1__1: 0, x_1_1__1: 0, x_2_1__1: 0, x_3_1__1: 0, x_0_2__1: 0, x_1_2__1: 0, x_2_2__1: 0, x_3_2__1: 0, x_0_3__1: 0, x_1_3__1: 0, x_2_3__1: 0, x_3_3__1: 0, x_0_0__2: 0, x_1_0__2: 0, x_2_0__2: 0, x_3_0__2: 0, x_0_1__2: 0, x_1_1__2: 0, x_2_1__2: 0, x_3_1__2: 0, x_0_2__2: 0, x_1_2__2: 0, x_2_2__2: 0, x_3_2__2: 0, x_0_3__2: 0, x_1_3__2: 0, x_2_3__2: 0, x_3_3__2: 0, x_0_0__3: 0, x_1_0__3: 0, x_2_0__3: 0, x_3_0__3: 0, x_0_1__3: 0, x_1_1__3: 0, x_2_1__3: 0, x_3_1__3: 0, x_0_2__3: 0, x_1_2__3: 0, x_2_2__3: 0, x_3_2__3: 0, x_0_3__3: 0, x_1_3__3: 0, x_2_3__3: 0, x_3_3__3: 1}\n"
     ]
    },
    {
     "data": {
      "text/latex": [
       "$\\displaystyle \\left[\\begin{matrix}1 & 0 & 0 & 1\\\\0 & 3 & 3 & 0\\\\0 & 3 & 3 & 0\\\\1 & 0 & 0 & 1\\end{matrix}\\right]$"
      ],
      "text/plain": [
       "⎡1  0  0  1⎤\n",
       "⎢          ⎥\n",
       "⎢0  3  3  0⎥\n",
       "⎢          ⎥\n",
       "⎢0  3  3  0⎥\n",
       "⎢          ⎥\n",
       "⎣1  0  0  1⎦"
      ]
     },
     "execution_count": 422,
     "metadata": {},
     "output_type": "execute_result"
    }
   ],
   "source": [
    "subs_map = {}\n",
    "for i in range(1, num_variables + 1):\n",
    "    subs_map[variables[i]] = effs[i]\n",
    "\n",
    "print(subs_map)\n",
    "\n",
    "subs_matrices = []\n",
    "for mat in matrices:\n",
    "    subs_matrices.append(mat.subs(subs_map))\n",
    "\n",
    "subs_matrices[0]"
   ]
  },
  {
   "cell_type": "code",
   "execution_count": 423,
   "metadata": {},
   "outputs": [
    {
     "name": "stdout",
     "output_type": "stream",
     "text": [
      "Correct!\n"
     ]
    }
   ],
   "source": [
    "find_not_psd = False\n",
    "\n",
    "for block_idx, mat in enumerate(subs_matrices):\n",
    "    eigenvals = mat.eigenvals()\n",
    "    is_psd = all(ev >= 0 for ev in eigenvals.keys())\n",
    "\n",
    "    if not is_psd:\n",
    "        print(f'block [{block_idx + 1}] is not positive semedefinite!')\n",
    "        display(mat)\n",
    "        display(matrices[block_idx])\n",
    "        find_not_psd = True\n",
    "\n",
    "if not find_not_psd:\n",
    "    print(\"Correct!\")"
   ]
  }
 ],
 "metadata": {
  "kernelspec": {
   "display_name": ".venv",
   "language": "python",
   "name": "python3"
  },
  "language_info": {
   "codemirror_mode": {
    "name": "ipython",
    "version": 3
   },
   "file_extension": ".py",
   "mimetype": "text/x-python",
   "name": "python",
   "nbconvert_exporter": "python",
   "pygments_lexer": "ipython3",
   "version": "3.12.0"
  }
 },
 "nbformat": 4,
 "nbformat_minor": 2
}
