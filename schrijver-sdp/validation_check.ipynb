{
 "cells": [
  {
   "cell_type": "code",
   "execution_count": 109,
   "metadata": {},
   "outputs": [],
   "source": [
    "import sympy as sp\n",
    "import numpy as np\n",
    "\n",
    "import re\n",
    "from sympy import symbols, Symbol, init_printing\n",
    "\n",
    "# 1) Symbol を継承して _latex をオーバーライド\n",
    "class DoubleIndexSymbol(Symbol):\n",
    "    def _latex(self, printer):\n",
    "        m = re.fullmatch(r'([A-Za-z]+)_(\\d+)_(\\d+)__(\\d+)', self.name)\n",
    "        if m:\n",
    "            base, i, j, k = m.groups()\n",
    "            return f\"{base}_{{{i},{j}}}^{k}\"\n",
    "        return self.name\n",
    "\n",
    "# 2) MathJax 表示を有効化\n",
    "init_printing(use_latex='mathjax')"
   ]
  },
  {
   "cell_type": "code",
   "execution_count": 110,
   "metadata": {},
   "outputs": [],
   "source": [
    "file_path = 'data/n3-d3.dat-s'\n",
    "\n",
    "n = 3\n",
    "d = 3"
   ]
  },
  {
   "cell_type": "code",
   "execution_count": 111,
   "metadata": {},
   "outputs": [],
   "source": [
    "def decode_variable_index(var_idx):\n",
    "    if var_idx == 0:\n",
    "        return 'x_0'\n",
    "    var_idx -= 1\n",
    "    i = var_idx % (n + 1)\n",
    "    var_idx //= (n + 1)\n",
    "    j = var_idx % (n + 1)\n",
    "    var_idx //= (n + 1)\n",
    "    t = var_idx % (n + 1)\n",
    "    return f\"x_{i}_{j}__{t}\""
   ]
  },
  {
   "cell_type": "code",
   "execution_count": 112,
   "metadata": {},
   "outputs": [],
   "source": [
    "with open(file_path) as f:\n",
    "    line = f.readline()\n",
    "    num_variables = int(line.split()[0])\n",
    "\n",
    "    variables = sp.symbols(\" \".join([decode_variable_index(i) for i in range(num_variables + 1)]), cls=DoubleIndexSymbol)\n",
    "\n",
    "    line = f.readline()\n",
    "    nblock = int(line.split()[0])\n",
    "\n",
    "    line = f.readline()\n",
    "    block_sizes = map(int, line.split())\n",
    "\n",
    "    line = f.readline()\n",
    "    objective = map(int, line.split())\n",
    "    \n",
    "    line = f.readline()\n",
    "\n",
    "    matrices = [\n",
    "        sp.Matrix(abs(s), abs(s), lambda i,j: 0) for s in block_sizes\n",
    "    ]\n",
    "\n",
    "    while line:\n",
    "        var_idx, block_idx, row, col, val = map(int, line.split())\n",
    "        if var_idx == 0:\n",
    "            matrices[block_idx - 1][row - 1, col - 1] += (-1) * val\n",
    "        else:\n",
    "            matrices[block_idx - 1][row - 1, col - 1] += val * variables[var_idx]\n",
    "        line = f.readline()"
   ]
  },
  {
   "cell_type": "code",
   "execution_count": 113,
   "metadata": {},
   "outputs": [],
   "source": [
    "# symmetrize\n",
    "for mat in matrices:\n",
    "    rows, cols = mat.shape\n",
    "    for row in range(rows):\n",
    "        for col in range(cols):\n",
    "            if row <= col:\n",
    "                continue\n",
    "            mat[row, col] = mat[col, row]"
   ]
  },
  {
   "cell_type": "code",
   "execution_count": 114,
   "metadata": {},
   "outputs": [
    {
     "data": {
      "text/latex": [
       "$\\displaystyle \\left( x^{0}_{0 0}, \\  x^{0}_{1 0}\\right)$"
      ],
      "text/plain": [
       "(x⁰₀ ₀, x⁰₁ ₀)"
      ]
     },
     "execution_count": 114,
     "metadata": {},
     "output_type": "execute_result"
    }
   ],
   "source": [
    "vars = sp.symbols(\"x_0_0__0 x_1_0__0\")\n",
    "vars[0], vars[1]"
   ]
  },
  {
   "cell_type": "code",
   "execution_count": 115,
   "metadata": {},
   "outputs": [
    {
     "name": "stdout",
     "output_type": "stream",
     "text": [
      "(x_0, x_0_0__0, x_1_0__0, x_2_0__0, x_3_0__0, x_0_1__0, x_1_1__0, x_2_1__0, x_3_1__0, x_0_2__0, x_1_2__0, x_2_2__0, x_3_2__0, x_0_3__0, x_1_3__0, x_2_3__0, x_3_3__0, x_0_0__1, x_1_0__1, x_2_0__1, x_3_0__1, x_0_1__1, x_1_1__1, x_2_1__1, x_3_1__1, x_0_2__1, x_1_2__1, x_2_2__1, x_3_2__1, x_0_3__1, x_1_3__1, x_2_3__1, x_3_3__1, x_0_0__2, x_1_0__2, x_2_0__2, x_3_0__2, x_0_1__2, x_1_1__2, x_2_1__2, x_3_1__2, x_0_2__2, x_1_2__2, x_2_2__2, x_3_2__2, x_0_3__2, x_1_3__2, x_2_3__2, x_3_3__2, x_0_0__3, x_1_0__3, x_2_0__3, x_3_0__3, x_0_1__3, x_1_1__3, x_2_1__3, x_3_1__3, x_0_2__3, x_1_2__3, x_2_2__3, x_3_2__3, x_0_3__3, x_1_3__3, x_2_3__3, x_3_3__3)\n"
     ]
    }
   ],
   "source": [
    "print(variables)"
   ]
  },
  {
   "cell_type": "code",
   "execution_count": 116,
   "metadata": {},
   "outputs": [
    {
     "data": {
      "text/latex": [
       "$\\displaystyle \\left[\\begin{matrix}x_{0,0}^0 & 3 x_{1,0}^0 & 3 x_{2,0}^0 & x_{3,0}^0\\\\3 x_{1,0}^0 & 3 x_{0,0}^0 + 6 x_{2,0}^0 & 6 x_{1,0}^0 + 3 x_{3,0}^0 & 3 x_{2,0}^0\\\\3 x_{2,0}^0 & 6 x_{1,0}^0 + 3 x_{3,0}^0 & 3 x_{0,0}^0 + 6 x_{2,0}^0 & 3 x_{1,0}^0\\\\x_{3,0}^0 & 3 x_{2,0}^0 & 3 x_{1,0}^0 & x_{3,3}^3\\end{matrix}\\right]$"
      ],
      "text/plain": [
       "⎡ x⁰₀ ₀        3⋅x⁰₁ ₀            3⋅x⁰₂ ₀        x⁰₃ ₀ ⎤\n",
       "⎢                                                      ⎥\n",
       "⎢3⋅x⁰₁ ₀  3⋅x⁰₀ ₀ + 6⋅x⁰₂ ₀  6⋅x⁰₁ ₀ + 3⋅x⁰₃ ₀  3⋅x⁰₂ ₀⎥\n",
       "⎢                                                      ⎥\n",
       "⎢3⋅x⁰₂ ₀  6⋅x⁰₁ ₀ + 3⋅x⁰₃ ₀  3⋅x⁰₀ ₀ + 6⋅x⁰₂ ₀  3⋅x⁰₁ ₀⎥\n",
       "⎢                                                      ⎥\n",
       "⎣ x⁰₃ ₀        3⋅x⁰₂ ₀            3⋅x⁰₁ ₀        x³₃ ₃ ⎦"
      ]
     },
     "execution_count": 116,
     "metadata": {},
     "output_type": "execute_result"
    }
   ],
   "source": [
    "block_idx = 1\n",
    "\n",
    "matrices[block_idx - 1]"
   ]
  },
  {
   "cell_type": "code",
   "execution_count": 117,
   "metadata": {},
   "outputs": [
    {
     "data": {
      "text/latex": [
       "$\\displaystyle \\left[\\begin{matrix}- 2 x_{0,0}^0 + x_{0,0}^2 + 1\\end{matrix}\\right]$"
      ],
      "text/plain": [
       "[-2⋅x⁰₀ ₀ + x²₀ ₀ + 1]"
      ]
     },
     "execution_count": 117,
     "metadata": {},
     "output_type": "execute_result"
    }
   ],
   "source": [
    "block_idx = 100\n",
    "\n",
    "matrices[block_idx - 1]"
   ]
  },
  {
   "cell_type": "code",
   "execution_count": 118,
   "metadata": {},
   "outputs": [
    {
     "name": "stdout",
     "output_type": "stream",
     "text": [
      "{x_0_0__0: 1, x_1_0__0: 0, x_2_0__0: 0, x_3_0__0: 1, x_0_1__0: 0, x_1_1__0: 0, x_2_1__0: 0, x_3_1__0: 0, x_0_2__0: 0, x_1_2__0: 0, x_2_2__0: 0, x_3_2__0: 0, x_0_3__0: 1, x_1_3__0: 0, x_2_3__0: 0, x_3_3__0: 0, x_0_0__1: 0, x_1_0__1: 0, x_2_0__1: 0, x_3_0__1: 0, x_0_1__1: 0, x_1_1__1: 0, x_2_1__1: 0, x_3_1__1: 0, x_0_2__1: 0, x_1_2__1: 0, x_2_2__1: 0, x_3_2__1: 0, x_0_3__1: 0, x_1_3__1: 0, x_2_3__1: 0, x_3_3__1: 0, x_0_0__2: 0, x_1_0__2: 0, x_2_0__2: 0, x_3_0__2: 0, x_0_1__2: 0, x_1_1__2: 0, x_2_1__2: 0, x_3_1__2: 0, x_0_2__2: 0, x_1_2__2: 0, x_2_2__2: 0, x_3_2__2: 0, x_0_3__2: 0, x_1_3__2: 0, x_2_3__2: 0, x_3_3__2: 0, x_0_0__3: 0, x_1_0__3: 0, x_2_0__3: 0, x_3_0__3: 0, x_0_1__3: 0, x_1_1__3: 0, x_2_1__3: 0, x_3_1__3: 0, x_0_2__3: 0, x_1_2__3: 0, x_2_2__3: 0, x_3_2__3: 0, x_0_3__3: 0, x_1_3__3: 0, x_2_3__3: 0, x_3_3__3: 1}\n"
     ]
    },
    {
     "data": {
      "text/latex": [
       "$\\displaystyle \\left[\\begin{matrix}1 & 0 & 0 & 1\\\\0 & 3 & 3 & 0\\\\0 & 3 & 3 & 0\\\\1 & 0 & 0 & 1\\end{matrix}\\right]$"
      ],
      "text/plain": [
       "⎡1  0  0  1⎤\n",
       "⎢          ⎥\n",
       "⎢0  3  3  0⎥\n",
       "⎢          ⎥\n",
       "⎢0  3  3  0⎥\n",
       "⎢          ⎥\n",
       "⎣1  0  0  1⎦"
      ]
     },
     "execution_count": 118,
     "metadata": {},
     "output_type": "execute_result"
    }
   ],
   "source": [
    "selected_vars = set([1, 4, 13, 64])\n",
    "\n",
    "subs_map = {}\n",
    "for i in range(1, num_variables + 1):\n",
    "    if i in selected_vars:\n",
    "        subs_map[variables[i]] = 1\n",
    "    else:\n",
    "        subs_map[variables[i]] = 0\n",
    "\n",
    "print(subs_map)\n",
    "\n",
    "subs_matrices = []\n",
    "for mat in matrices:\n",
    "    subs_matrices.append(mat.subs(subs_map))\n",
    "\n",
    "subs_matrices[0]"
   ]
  },
  {
   "cell_type": "code",
   "execution_count": 119,
   "metadata": {},
   "outputs": [
    {
     "name": "stdout",
     "output_type": "stream",
     "text": [
      "block [83] is not positive semedefinite!\n"
     ]
    },
    {
     "data": {
      "text/latex": [
       "$\\displaystyle \\left[\\begin{matrix}-1\\end{matrix}\\right]$"
      ],
      "text/plain": [
       "[-1]"
      ]
     },
     "metadata": {},
     "output_type": "display_data"
    },
    {
     "data": {
      "text/latex": [
       "$\\displaystyle \\left[\\begin{matrix}- x_{0,3}^0 - x_{3,0}^0 + x_{3,3}^0 + 1\\end{matrix}\\right]$"
      ],
      "text/plain": [
       "[-x⁰₀ ₃ - x⁰₃ ₀ + x⁰₃ ₃ + 1]"
      ]
     },
     "metadata": {},
     "output_type": "display_data"
    },
    {
     "name": "stdout",
     "output_type": "stream",
     "text": [
      "block [84] is not positive semedefinite!\n"
     ]
    },
    {
     "data": {
      "text/latex": [
       "$\\displaystyle \\left[\\begin{matrix}-1\\end{matrix}\\right]$"
      ],
      "text/plain": [
       "[-1]"
      ]
     },
     "metadata": {},
     "output_type": "display_data"
    },
    {
     "data": {
      "text/latex": [
       "$\\displaystyle \\left[\\begin{matrix}- 2 x_{0,0}^0 + x_{0,0}^1 + 1\\end{matrix}\\right]$"
      ],
      "text/plain": [
       "[-2⋅x⁰₀ ₀ + x¹₀ ₀ + 1]"
      ]
     },
     "metadata": {},
     "output_type": "display_data"
    },
    {
     "name": "stdout",
     "output_type": "stream",
     "text": [
      "block [87] is not positive semedefinite!\n"
     ]
    },
    {
     "data": {
      "text/latex": [
       "$\\displaystyle \\left[\\begin{matrix}-1\\end{matrix}\\right]$"
      ],
      "text/plain": [
       "[-1]"
      ]
     },
     "metadata": {},
     "output_type": "display_data"
    },
    {
     "data": {
      "text/latex": [
       "$\\displaystyle \\left[\\begin{matrix}- x_{0,0}^0 - x_{0,3}^0 + x_{0,3}^1 + 1\\end{matrix}\\right]$"
      ],
      "text/plain": [
       "[-x⁰₀ ₀ - x⁰₀ ₃ + x¹₀ ₃ + 1]"
      ]
     },
     "metadata": {},
     "output_type": "display_data"
    },
    {
     "name": "stdout",
     "output_type": "stream",
     "text": [
      "block [96] is not positive semedefinite!\n"
     ]
    },
    {
     "data": {
      "text/latex": [
       "$\\displaystyle \\left[\\begin{matrix}-1\\end{matrix}\\right]$"
      ],
      "text/plain": [
       "[-1]"
      ]
     },
     "metadata": {},
     "output_type": "display_data"
    },
    {
     "data": {
      "text/latex": [
       "$\\displaystyle \\left[\\begin{matrix}- x_{0,0}^0 - x_{3,0}^0 + x_{3,0}^1 + 1\\end{matrix}\\right]$"
      ],
      "text/plain": [
       "[-x⁰₀ ₀ - x⁰₃ ₀ + x¹₃ ₀ + 1]"
      ]
     },
     "metadata": {},
     "output_type": "display_data"
    },
    {
     "name": "stdout",
     "output_type": "stream",
     "text": [
      "block [99] is not positive semedefinite!\n"
     ]
    },
    {
     "data": {
      "text/latex": [
       "$\\displaystyle \\left[\\begin{matrix}-1\\end{matrix}\\right]$"
      ],
      "text/plain": [
       "[-1]"
      ]
     },
     "metadata": {},
     "output_type": "display_data"
    },
    {
     "data": {
      "text/latex": [
       "$\\displaystyle \\left[\\begin{matrix}- x_{0,3}^0 - x_{3,0}^0 + x_{3,3}^1 + 1\\end{matrix}\\right]$"
      ],
      "text/plain": [
       "[-x⁰₀ ₃ - x⁰₃ ₀ + x¹₃ ₃ + 1]"
      ]
     },
     "metadata": {},
     "output_type": "display_data"
    },
    {
     "name": "stdout",
     "output_type": "stream",
     "text": [
      "block [100] is not positive semedefinite!\n"
     ]
    },
    {
     "data": {
      "text/latex": [
       "$\\displaystyle \\left[\\begin{matrix}-1\\end{matrix}\\right]$"
      ],
      "text/plain": [
       "[-1]"
      ]
     },
     "metadata": {},
     "output_type": "display_data"
    },
    {
     "data": {
      "text/latex": [
       "$\\displaystyle \\left[\\begin{matrix}- 2 x_{0,0}^0 + x_{0,0}^2 + 1\\end{matrix}\\right]$"
      ],
      "text/plain": [
       "[-2⋅x⁰₀ ₀ + x²₀ ₀ + 1]"
      ]
     },
     "metadata": {},
     "output_type": "display_data"
    },
    {
     "name": "stdout",
     "output_type": "stream",
     "text": [
      "block [103] is not positive semedefinite!\n"
     ]
    },
    {
     "data": {
      "text/latex": [
       "$\\displaystyle \\left[\\begin{matrix}-1\\end{matrix}\\right]$"
      ],
      "text/plain": [
       "[-1]"
      ]
     },
     "metadata": {},
     "output_type": "display_data"
    },
    {
     "data": {
      "text/latex": [
       "$\\displaystyle \\left[\\begin{matrix}- x_{0,0}^0 - x_{0,3}^0 + x_{0,3}^2 + 1\\end{matrix}\\right]$"
      ],
      "text/plain": [
       "[-x⁰₀ ₀ - x⁰₀ ₃ + x²₀ ₃ + 1]"
      ]
     },
     "metadata": {},
     "output_type": "display_data"
    },
    {
     "name": "stdout",
     "output_type": "stream",
     "text": [
      "block [112] is not positive semedefinite!\n"
     ]
    },
    {
     "data": {
      "text/latex": [
       "$\\displaystyle \\left[\\begin{matrix}-1\\end{matrix}\\right]$"
      ],
      "text/plain": [
       "[-1]"
      ]
     },
     "metadata": {},
     "output_type": "display_data"
    },
    {
     "data": {
      "text/latex": [
       "$\\displaystyle \\left[\\begin{matrix}- x_{0,0}^0 - x_{3,0}^0 + x_{3,0}^2 + 1\\end{matrix}\\right]$"
      ],
      "text/plain": [
       "[-x⁰₀ ₀ - x⁰₃ ₀ + x²₃ ₀ + 1]"
      ]
     },
     "metadata": {},
     "output_type": "display_data"
    },
    {
     "name": "stdout",
     "output_type": "stream",
     "text": [
      "block [115] is not positive semedefinite!\n"
     ]
    },
    {
     "data": {
      "text/latex": [
       "$\\displaystyle \\left[\\begin{matrix}-1\\end{matrix}\\right]$"
      ],
      "text/plain": [
       "[-1]"
      ]
     },
     "metadata": {},
     "output_type": "display_data"
    },
    {
     "data": {
      "text/latex": [
       "$\\displaystyle \\left[\\begin{matrix}- x_{0,3}^0 - x_{3,0}^0 + x_{3,3}^2 + 1\\end{matrix}\\right]$"
      ],
      "text/plain": [
       "[-x⁰₀ ₃ - x⁰₃ ₀ + x²₃ ₃ + 1]"
      ]
     },
     "metadata": {},
     "output_type": "display_data"
    },
    {
     "name": "stdout",
     "output_type": "stream",
     "text": [
      "block [116] is not positive semedefinite!\n"
     ]
    },
    {
     "data": {
      "text/latex": [
       "$\\displaystyle \\left[\\begin{matrix}-1\\end{matrix}\\right]$"
      ],
      "text/plain": [
       "[-1]"
      ]
     },
     "metadata": {},
     "output_type": "display_data"
    },
    {
     "data": {
      "text/latex": [
       "$\\displaystyle \\left[\\begin{matrix}- 2 x_{0,0}^0 + x_{0,0}^3 + 1\\end{matrix}\\right]$"
      ],
      "text/plain": [
       "[-2⋅x⁰₀ ₀ + x³₀ ₀ + 1]"
      ]
     },
     "metadata": {},
     "output_type": "display_data"
    },
    {
     "name": "stdout",
     "output_type": "stream",
     "text": [
      "block [119] is not positive semedefinite!\n"
     ]
    },
    {
     "data": {
      "text/latex": [
       "$\\displaystyle \\left[\\begin{matrix}-1\\end{matrix}\\right]$"
      ],
      "text/plain": [
       "[-1]"
      ]
     },
     "metadata": {},
     "output_type": "display_data"
    },
    {
     "data": {
      "text/latex": [
       "$\\displaystyle \\left[\\begin{matrix}- x_{0,0}^0 - x_{0,3}^0 + x_{0,3}^3 + 1\\end{matrix}\\right]$"
      ],
      "text/plain": [
       "[-x⁰₀ ₀ - x⁰₀ ₃ + x³₀ ₃ + 1]"
      ]
     },
     "metadata": {},
     "output_type": "display_data"
    },
    {
     "name": "stdout",
     "output_type": "stream",
     "text": [
      "block [128] is not positive semedefinite!\n"
     ]
    },
    {
     "data": {
      "text/latex": [
       "$\\displaystyle \\left[\\begin{matrix}-1\\end{matrix}\\right]$"
      ],
      "text/plain": [
       "[-1]"
      ]
     },
     "metadata": {},
     "output_type": "display_data"
    },
    {
     "data": {
      "text/latex": [
       "$\\displaystyle \\left[\\begin{matrix}- x_{0,0}^0 - x_{3,0}^0 + x_{3,0}^3 + 1\\end{matrix}\\right]$"
      ],
      "text/plain": [
       "[-x⁰₀ ₀ - x⁰₃ ₀ + x³₃ ₀ + 1]"
      ]
     },
     "metadata": {},
     "output_type": "display_data"
    }
   ],
   "source": [
    "for block_idx, mat in enumerate(subs_matrices):\n",
    "    eigenvals = mat.eigenvals()\n",
    "    is_psd = all(ev >= 0 for ev in eigenvals.keys())\n",
    "\n",
    "    if not is_psd:\n",
    "        print(f'block [{block_idx + 1}] is not positive semedefinite!')\n",
    "        display(mat)\n",
    "        display(matrices[block_idx])"
   ]
  }
 ],
 "metadata": {
  "kernelspec": {
   "display_name": ".venv",
   "language": "python",
   "name": "python3"
  },
  "language_info": {
   "codemirror_mode": {
    "name": "ipython",
    "version": 3
   },
   "file_extension": ".py",
   "mimetype": "text/x-python",
   "name": "python",
   "nbconvert_exporter": "python",
   "pygments_lexer": "ipython3",
   "version": "3.12.0"
  }
 },
 "nbformat": 4,
 "nbformat_minor": 2
}
